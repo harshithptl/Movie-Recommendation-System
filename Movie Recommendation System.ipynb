{
 "cells": [
  {
   "cell_type": "code",
   "execution_count": 1,
   "metadata": {},
   "outputs": [],
   "source": [
    "import pandas as pd\n",
    "import numpy as np"
   ]
  },
  {
   "cell_type": "code",
   "execution_count": 40,
   "metadata": {},
   "outputs": [],
   "source": [
    "movie=pd.read_csv(r'./ml-20m/movies.csv')\n",
    "tags=pd.read_csv(r'./ml-20m/tags.csv')"
   ]
  },
  {
   "cell_type": "code",
   "execution_count": 4,
   "metadata": {},
   "outputs": [],
   "source": [
    "movie['genres']=movie['genres'].str.split('|').str.join(',')"
   ]
  },
  {
   "cell_type": "code",
   "execution_count": 5,
   "metadata": {},
   "outputs": [
    {
     "data": {
      "text/html": [
       "<div>\n",
       "<style scoped>\n",
       "    .dataframe tbody tr th:only-of-type {\n",
       "        vertical-align: middle;\n",
       "    }\n",
       "\n",
       "    .dataframe tbody tr th {\n",
       "        vertical-align: top;\n",
       "    }\n",
       "\n",
       "    .dataframe thead th {\n",
       "        text-align: right;\n",
       "    }\n",
       "</style>\n",
       "<table border=\"1\" class=\"dataframe\">\n",
       "  <thead>\n",
       "    <tr style=\"text-align: right;\">\n",
       "      <th></th>\n",
       "      <th>movieId</th>\n",
       "      <th>title</th>\n",
       "      <th>genres</th>\n",
       "    </tr>\n",
       "  </thead>\n",
       "  <tbody>\n",
       "    <tr>\n",
       "      <th>0</th>\n",
       "      <td>1</td>\n",
       "      <td>Toy Story</td>\n",
       "      <td>Adventure,Animation,Children,Comedy,Fantasy</td>\n",
       "    </tr>\n",
       "    <tr>\n",
       "      <th>1</th>\n",
       "      <td>2</td>\n",
       "      <td>Jumanji</td>\n",
       "      <td>Adventure,Children,Fantasy</td>\n",
       "    </tr>\n",
       "    <tr>\n",
       "      <th>2</th>\n",
       "      <td>3</td>\n",
       "      <td>Grumpier Old Men</td>\n",
       "      <td>Comedy,Romance</td>\n",
       "    </tr>\n",
       "    <tr>\n",
       "      <th>3</th>\n",
       "      <td>4</td>\n",
       "      <td>Waiting to Exhale</td>\n",
       "      <td>Comedy,Drama,Romance</td>\n",
       "    </tr>\n",
       "    <tr>\n",
       "      <th>4</th>\n",
       "      <td>5</td>\n",
       "      <td>Father of the Bride Part II</td>\n",
       "      <td>Comedy</td>\n",
       "    </tr>\n",
       "  </tbody>\n",
       "</table>\n",
       "</div>"
      ],
      "text/plain": [
       "   movieId                        title  \\\n",
       "0        1                    Toy Story   \n",
       "1        2                      Jumanji   \n",
       "2        3             Grumpier Old Men   \n",
       "3        4            Waiting to Exhale   \n",
       "4        5  Father of the Bride Part II   \n",
       "\n",
       "                                        genres  \n",
       "0  Adventure,Animation,Children,Comedy,Fantasy  \n",
       "1                   Adventure,Children,Fantasy  \n",
       "2                               Comedy,Romance  \n",
       "3                         Comedy,Drama,Romance  \n",
       "4                                       Comedy  "
      ]
     },
     "execution_count": 5,
     "metadata": {},
     "output_type": "execute_result"
    }
   ],
   "source": [
    "movie['title']=movie['title'].str.replace(r'\\(\\d{4}\\)','')\n",
    "movie['title']=movie['title'].str.rstrip()\n",
    "movie['title']=movie['title'].str.lstrip()\n",
    "movie.head()"
   ]
  },
  {
   "cell_type": "code",
   "execution_count": 6,
   "metadata": {},
   "outputs": [],
   "source": [
    "tags.drop(['timestamp','userId'],axis=1,inplace=True)"
   ]
  },
  {
   "cell_type": "code",
   "execution_count": 7,
   "metadata": {},
   "outputs": [
    {
     "data": {
      "text/plain": [
       "movieId     0\n",
       "tag        16\n",
       "dtype: int64"
      ]
     },
     "execution_count": 7,
     "metadata": {},
     "output_type": "execute_result"
    }
   ],
   "source": [
    "tags.isnull().sum()"
   ]
  },
  {
   "cell_type": "code",
   "execution_count": 8,
   "metadata": {},
   "outputs": [],
   "source": [
    "tags.fillna('',inplace=True)"
   ]
  },
  {
   "cell_type": "code",
   "execution_count": null,
   "metadata": {},
   "outputs": [],
   "source": []
  },
  {
   "cell_type": "code",
   "execution_count": 9,
   "metadata": {},
   "outputs": [
    {
     "data": {
      "text/html": [
       "<div>\n",
       "<style scoped>\n",
       "    .dataframe tbody tr th:only-of-type {\n",
       "        vertical-align: middle;\n",
       "    }\n",
       "\n",
       "    .dataframe tbody tr th {\n",
       "        vertical-align: top;\n",
       "    }\n",
       "\n",
       "    .dataframe thead th {\n",
       "        text-align: right;\n",
       "    }\n",
       "</style>\n",
       "<table border=\"1\" class=\"dataframe\">\n",
       "  <thead>\n",
       "    <tr style=\"text-align: right;\">\n",
       "      <th></th>\n",
       "      <th>tag</th>\n",
       "    </tr>\n",
       "    <tr>\n",
       "      <th>movieId</th>\n",
       "      <th></th>\n",
       "    </tr>\n",
       "  </thead>\n",
       "  <tbody>\n",
       "    <tr>\n",
       "      <th>1</th>\n",
       "      <td>Watched,computer animation,Disney animated fea...</td>\n",
       "    </tr>\n",
       "    <tr>\n",
       "      <th>2</th>\n",
       "      <td>time travel,adapted from:book,board game,child...</td>\n",
       "    </tr>\n",
       "    <tr>\n",
       "      <th>3</th>\n",
       "      <td>old people that is actually funny,sequel fever...</td>\n",
       "    </tr>\n",
       "    <tr>\n",
       "      <th>4</th>\n",
       "      <td>chick flick,revenge,characters,chick flick,cha...</td>\n",
       "    </tr>\n",
       "    <tr>\n",
       "      <th>5</th>\n",
       "      <td>Diane Keaton,family,sequel,Steve Martin,weddin...</td>\n",
       "    </tr>\n",
       "    <tr>\n",
       "      <th>...</th>\n",
       "      <td>...</td>\n",
       "    </tr>\n",
       "    <tr>\n",
       "      <th>131054</th>\n",
       "      <td>dinosaurs</td>\n",
       "    </tr>\n",
       "    <tr>\n",
       "      <th>131082</th>\n",
       "      <td>documentary,Yoshitomo Nara</td>\n",
       "    </tr>\n",
       "    <tr>\n",
       "      <th>131164</th>\n",
       "      <td>Vietnam War</td>\n",
       "    </tr>\n",
       "    <tr>\n",
       "      <th>131170</th>\n",
       "      <td>alternate reality</td>\n",
       "    </tr>\n",
       "    <tr>\n",
       "      <th>131258</th>\n",
       "      <td>bandits,Korea,mutiny,pirates,whale</td>\n",
       "    </tr>\n",
       "  </tbody>\n",
       "</table>\n",
       "<p>19545 rows × 1 columns</p>\n",
       "</div>"
      ],
      "text/plain": [
       "                                                       tag\n",
       "movieId                                                   \n",
       "1        Watched,computer animation,Disney animated fea...\n",
       "2        time travel,adapted from:book,board game,child...\n",
       "3        old people that is actually funny,sequel fever...\n",
       "4        chick flick,revenge,characters,chick flick,cha...\n",
       "5        Diane Keaton,family,sequel,Steve Martin,weddin...\n",
       "...                                                    ...\n",
       "131054                                           dinosaurs\n",
       "131082                          documentary,Yoshitomo Nara\n",
       "131164                                         Vietnam War\n",
       "131170                                   alternate reality\n",
       "131258                  bandits,Korea,mutiny,pirates,whale\n",
       "\n",
       "[19545 rows x 1 columns]"
      ]
     },
     "execution_count": 9,
     "metadata": {},
     "output_type": "execute_result"
    }
   ],
   "source": [
    "keywords=pd.DataFrame(tags.groupby('movieId')['tag'].apply(','.join))\n",
    "keywords"
   ]
  },
  {
   "cell_type": "code",
   "execution_count": null,
   "metadata": {},
   "outputs": [],
   "source": []
  },
  {
   "cell_type": "code",
   "execution_count": null,
   "metadata": {},
   "outputs": [],
   "source": []
  },
  {
   "cell_type": "code",
   "execution_count": 10,
   "metadata": {},
   "outputs": [
    {
     "data": {
      "text/plain": [
       "(27278, 3)"
      ]
     },
     "execution_count": 10,
     "metadata": {},
     "output_type": "execute_result"
    }
   ],
   "source": [
    "movie.shape"
   ]
  },
  {
   "cell_type": "code",
   "execution_count": 11,
   "metadata": {},
   "outputs": [],
   "source": [
    "df=pd.merge(movie,keywords,on='movieId',how='left')"
   ]
  },
  {
   "cell_type": "code",
   "execution_count": 12,
   "metadata": {},
   "outputs": [
    {
     "data": {
      "text/html": [
       "<div>\n",
       "<style scoped>\n",
       "    .dataframe tbody tr th:only-of-type {\n",
       "        vertical-align: middle;\n",
       "    }\n",
       "\n",
       "    .dataframe tbody tr th {\n",
       "        vertical-align: top;\n",
       "    }\n",
       "\n",
       "    .dataframe thead th {\n",
       "        text-align: right;\n",
       "    }\n",
       "</style>\n",
       "<table border=\"1\" class=\"dataframe\">\n",
       "  <thead>\n",
       "    <tr style=\"text-align: right;\">\n",
       "      <th></th>\n",
       "      <th>movieId</th>\n",
       "      <th>title</th>\n",
       "      <th>genres</th>\n",
       "      <th>tag</th>\n",
       "    </tr>\n",
       "  </thead>\n",
       "  <tbody>\n",
       "    <tr>\n",
       "      <th>11632</th>\n",
       "      <td>51019</td>\n",
       "      <td>Fifty-Fifty (a.k.a. Schizo) (Shiza)</td>\n",
       "      <td>Crime,Drama,Romance,Thriller</td>\n",
       "      <td>NaN</td>\n",
       "    </tr>\n",
       "    <tr>\n",
       "      <th>13077</th>\n",
       "      <td>62796</td>\n",
       "      <td>Fifty Pills</td>\n",
       "      <td>Comedy</td>\n",
       "      <td>Kristen Bell,Nora Zehetner</td>\n",
       "    </tr>\n",
       "    <tr>\n",
       "      <th>14306</th>\n",
       "      <td>71691</td>\n",
       "      <td>Fifty Dead Men Walking</td>\n",
       "      <td>Action,Drama,Thriller</td>\n",
       "      <td>action,crime,double agents,Irish conflict,Jim ...</td>\n",
       "    </tr>\n",
       "    <tr>\n",
       "      <th>26159</th>\n",
       "      <td>125916</td>\n",
       "      <td>Fifty Shades of Grey</td>\n",
       "      <td>Drama</td>\n",
       "      <td>abuse,abuse,book,erotic,bkk,BDSM,sexual object...</td>\n",
       "    </tr>\n",
       "    <tr>\n",
       "      <th>27166</th>\n",
       "      <td>130836</td>\n",
       "      <td>Fifty/Fifty</td>\n",
       "      <td>Action,Comedy,Thriller</td>\n",
       "      <td>NaN</td>\n",
       "    </tr>\n",
       "  </tbody>\n",
       "</table>\n",
       "</div>"
      ],
      "text/plain": [
       "       movieId                                title  \\\n",
       "11632    51019  Fifty-Fifty (a.k.a. Schizo) (Shiza)   \n",
       "13077    62796                          Fifty Pills   \n",
       "14306    71691               Fifty Dead Men Walking   \n",
       "26159   125916                 Fifty Shades of Grey   \n",
       "27166   130836                          Fifty/Fifty   \n",
       "\n",
       "                             genres  \\\n",
       "11632  Crime,Drama,Romance,Thriller   \n",
       "13077                        Comedy   \n",
       "14306         Action,Drama,Thriller   \n",
       "26159                         Drama   \n",
       "27166        Action,Comedy,Thriller   \n",
       "\n",
       "                                                     tag  \n",
       "11632                                                NaN  \n",
       "13077                         Kristen Bell,Nora Zehetner  \n",
       "14306  action,crime,double agents,Irish conflict,Jim ...  \n",
       "26159  abuse,abuse,book,erotic,bkk,BDSM,sexual object...  \n",
       "27166                                                NaN  "
      ]
     },
     "execution_count": 12,
     "metadata": {},
     "output_type": "execute_result"
    }
   ],
   "source": [
    "df[df['title'].str.contains('Fifty')]"
   ]
  },
  {
   "cell_type": "code",
   "execution_count": 13,
   "metadata": {},
   "outputs": [],
   "source": [
    "df.fillna('',inplace=True)"
   ]
  },
  {
   "cell_type": "code",
   "execution_count": 14,
   "metadata": {},
   "outputs": [
    {
     "data": {
      "text/html": [
       "<div>\n",
       "<style scoped>\n",
       "    .dataframe tbody tr th:only-of-type {\n",
       "        vertical-align: middle;\n",
       "    }\n",
       "\n",
       "    .dataframe tbody tr th {\n",
       "        vertical-align: top;\n",
       "    }\n",
       "\n",
       "    .dataframe thead th {\n",
       "        text-align: right;\n",
       "    }\n",
       "</style>\n",
       "<table border=\"1\" class=\"dataframe\">\n",
       "  <thead>\n",
       "    <tr style=\"text-align: right;\">\n",
       "      <th></th>\n",
       "      <th>movieId</th>\n",
       "      <th>title</th>\n",
       "      <th>genres</th>\n",
       "      <th>tag</th>\n",
       "      <th>soup</th>\n",
       "    </tr>\n",
       "  </thead>\n",
       "  <tbody>\n",
       "    <tr>\n",
       "      <th>0</th>\n",
       "      <td>1</td>\n",
       "      <td>Toy Story</td>\n",
       "      <td>Adventure,Animation,Children,Comedy,Fantasy</td>\n",
       "      <td>Watched,computer animation,Disney animated fea...</td>\n",
       "      <td>Adventure,Animation,Children,Comedy,Fantasy,Wa...</td>\n",
       "    </tr>\n",
       "    <tr>\n",
       "      <th>1</th>\n",
       "      <td>2</td>\n",
       "      <td>Jumanji</td>\n",
       "      <td>Adventure,Children,Fantasy</td>\n",
       "      <td>time travel,adapted from:book,board game,child...</td>\n",
       "      <td>Adventure,Children,Fantasy,time travel,adapted...</td>\n",
       "    </tr>\n",
       "    <tr>\n",
       "      <th>2</th>\n",
       "      <td>3</td>\n",
       "      <td>Grumpier Old Men</td>\n",
       "      <td>Comedy,Romance</td>\n",
       "      <td>old people that is actually funny,sequel fever...</td>\n",
       "      <td>Comedy,Romance,old people that is actually fun...</td>\n",
       "    </tr>\n",
       "    <tr>\n",
       "      <th>3</th>\n",
       "      <td>4</td>\n",
       "      <td>Waiting to Exhale</td>\n",
       "      <td>Comedy,Drama,Romance</td>\n",
       "      <td>chick flick,revenge,characters,chick flick,cha...</td>\n",
       "      <td>Comedy,Drama,Romance,chick flick,revenge,chara...</td>\n",
       "    </tr>\n",
       "    <tr>\n",
       "      <th>4</th>\n",
       "      <td>5</td>\n",
       "      <td>Father of the Bride Part II</td>\n",
       "      <td>Comedy</td>\n",
       "      <td>Diane Keaton,family,sequel,Steve Martin,weddin...</td>\n",
       "      <td>Comedy,Diane Keaton,family,sequel,Steve Martin...</td>\n",
       "    </tr>\n",
       "    <tr>\n",
       "      <th>...</th>\n",
       "      <td>...</td>\n",
       "      <td>...</td>\n",
       "      <td>...</td>\n",
       "      <td>...</td>\n",
       "      <td>...</td>\n",
       "    </tr>\n",
       "    <tr>\n",
       "      <th>27273</th>\n",
       "      <td>131254</td>\n",
       "      <td>Kein Bund für's Leben</td>\n",
       "      <td>Comedy</td>\n",
       "      <td></td>\n",
       "      <td>Comedy,</td>\n",
       "    </tr>\n",
       "    <tr>\n",
       "      <th>27274</th>\n",
       "      <td>131256</td>\n",
       "      <td>Feuer, Eis &amp; Dosenbier</td>\n",
       "      <td>Comedy</td>\n",
       "      <td></td>\n",
       "      <td>Comedy,</td>\n",
       "    </tr>\n",
       "    <tr>\n",
       "      <th>27275</th>\n",
       "      <td>131258</td>\n",
       "      <td>The Pirates</td>\n",
       "      <td>Adventure</td>\n",
       "      <td>bandits,Korea,mutiny,pirates,whale</td>\n",
       "      <td>Adventure,bandits,Korea,mutiny,pirates,whale</td>\n",
       "    </tr>\n",
       "    <tr>\n",
       "      <th>27276</th>\n",
       "      <td>131260</td>\n",
       "      <td>Rentun Ruusu</td>\n",
       "      <td>(no genres listed)</td>\n",
       "      <td></td>\n",
       "      <td>(no genres listed),</td>\n",
       "    </tr>\n",
       "    <tr>\n",
       "      <th>27277</th>\n",
       "      <td>131262</td>\n",
       "      <td>Innocence</td>\n",
       "      <td>Adventure,Fantasy,Horror</td>\n",
       "      <td></td>\n",
       "      <td>Adventure,Fantasy,Horror,</td>\n",
       "    </tr>\n",
       "  </tbody>\n",
       "</table>\n",
       "<p>27278 rows × 5 columns</p>\n",
       "</div>"
      ],
      "text/plain": [
       "       movieId                        title  \\\n",
       "0            1                    Toy Story   \n",
       "1            2                      Jumanji   \n",
       "2            3             Grumpier Old Men   \n",
       "3            4            Waiting to Exhale   \n",
       "4            5  Father of the Bride Part II   \n",
       "...        ...                          ...   \n",
       "27273   131254        Kein Bund für's Leben   \n",
       "27274   131256       Feuer, Eis & Dosenbier   \n",
       "27275   131258                  The Pirates   \n",
       "27276   131260                 Rentun Ruusu   \n",
       "27277   131262                    Innocence   \n",
       "\n",
       "                                            genres  \\\n",
       "0      Adventure,Animation,Children,Comedy,Fantasy   \n",
       "1                       Adventure,Children,Fantasy   \n",
       "2                                   Comedy,Romance   \n",
       "3                             Comedy,Drama,Romance   \n",
       "4                                           Comedy   \n",
       "...                                            ...   \n",
       "27273                                       Comedy   \n",
       "27274                                       Comedy   \n",
       "27275                                    Adventure   \n",
       "27276                           (no genres listed)   \n",
       "27277                     Adventure,Fantasy,Horror   \n",
       "\n",
       "                                                     tag  \\\n",
       "0      Watched,computer animation,Disney animated fea...   \n",
       "1      time travel,adapted from:book,board game,child...   \n",
       "2      old people that is actually funny,sequel fever...   \n",
       "3      chick flick,revenge,characters,chick flick,cha...   \n",
       "4      Diane Keaton,family,sequel,Steve Martin,weddin...   \n",
       "...                                                  ...   \n",
       "27273                                                      \n",
       "27274                                                      \n",
       "27275                 bandits,Korea,mutiny,pirates,whale   \n",
       "27276                                                      \n",
       "27277                                                      \n",
       "\n",
       "                                                    soup  \n",
       "0      Adventure,Animation,Children,Comedy,Fantasy,Wa...  \n",
       "1      Adventure,Children,Fantasy,time travel,adapted...  \n",
       "2      Comedy,Romance,old people that is actually fun...  \n",
       "3      Comedy,Drama,Romance,chick flick,revenge,chara...  \n",
       "4      Comedy,Diane Keaton,family,sequel,Steve Martin...  \n",
       "...                                                  ...  \n",
       "27273                                            Comedy,  \n",
       "27274                                            Comedy,  \n",
       "27275       Adventure,bandits,Korea,mutiny,pirates,whale  \n",
       "27276                                (no genres listed),  \n",
       "27277                          Adventure,Fantasy,Horror,  \n",
       "\n",
       "[27278 rows x 5 columns]"
      ]
     },
     "execution_count": 14,
     "metadata": {},
     "output_type": "execute_result"
    }
   ],
   "source": [
    "df['soup']=df['genres']+','+df['tag']\n",
    "df"
   ]
  },
  {
   "cell_type": "code",
   "execution_count": 15,
   "metadata": {},
   "outputs": [
    {
     "data": {
      "text/html": [
       "<div>\n",
       "<style scoped>\n",
       "    .dataframe tbody tr th:only-of-type {\n",
       "        vertical-align: middle;\n",
       "    }\n",
       "\n",
       "    .dataframe tbody tr th {\n",
       "        vertical-align: top;\n",
       "    }\n",
       "\n",
       "    .dataframe thead th {\n",
       "        text-align: right;\n",
       "    }\n",
       "</style>\n",
       "<table border=\"1\" class=\"dataframe\">\n",
       "  <thead>\n",
       "    <tr style=\"text-align: right;\">\n",
       "      <th></th>\n",
       "      <th>movieId</th>\n",
       "      <th>title</th>\n",
       "      <th>genres</th>\n",
       "      <th>tag</th>\n",
       "      <th>soup</th>\n",
       "    </tr>\n",
       "  </thead>\n",
       "  <tbody>\n",
       "    <tr>\n",
       "      <th>6</th>\n",
       "      <td>7</td>\n",
       "      <td>Sabrina</td>\n",
       "      <td>Comedy,Romance</td>\n",
       "      <td>Greg Kinnear,romance,remadeAs:Sabrina(1995),re...</td>\n",
       "      <td>Comedy,Romance,Greg Kinnear,romance,remadeAs:S...</td>\n",
       "    </tr>\n",
       "  </tbody>\n",
       "</table>\n",
       "</div>"
      ],
      "text/plain": [
       "   movieId    title          genres  \\\n",
       "6        7  Sabrina  Comedy,Romance   \n",
       "\n",
       "                                                 tag  \\\n",
       "6  Greg Kinnear,romance,remadeAs:Sabrina(1995),re...   \n",
       "\n",
       "                                                soup  \n",
       "6  Comedy,Romance,Greg Kinnear,romance,remadeAs:S...  "
      ]
     },
     "execution_count": 15,
     "metadata": {},
     "output_type": "execute_result"
    }
   ],
   "source": [
    "df[df['movieId']==7]"
   ]
  },
  {
   "cell_type": "code",
   "execution_count": 16,
   "metadata": {},
   "outputs": [],
   "source": [
    "from sklearn.feature_extraction.text import TfidfVectorizer"
   ]
  },
  {
   "cell_type": "code",
   "execution_count": 17,
   "metadata": {},
   "outputs": [],
   "source": [
    "tfv=TfidfVectorizer(min_df=3,ngram_range=(1,3),stop_words='english',strip_accents='unicode',analyzer='word',\n",
    "                   token_pattern=r'\\w{1,}')"
   ]
  },
  {
   "cell_type": "code",
   "execution_count": 18,
   "metadata": {},
   "outputs": [],
   "source": [
    "tfvm=tfv.fit_transform(df['soup'])"
   ]
  },
  {
   "cell_type": "code",
   "execution_count": 19,
   "metadata": {},
   "outputs": [
    {
     "data": {
      "text/plain": [
       "(27278, 52783)"
      ]
     },
     "execution_count": 19,
     "metadata": {},
     "output_type": "execute_result"
    }
   ],
   "source": [
    "tfvm.shape"
   ]
  },
  {
   "cell_type": "code",
   "execution_count": 20,
   "metadata": {},
   "outputs": [],
   "source": [
    "from sklearn.metrics.pairwise import sigmoid_kernel\n",
    "sig=sigmoid_kernel(tfvm,tfvm)"
   ]
  },
  {
   "cell_type": "code",
   "execution_count": null,
   "metadata": {},
   "outputs": [],
   "source": []
  },
  {
   "cell_type": "code",
   "execution_count": 22,
   "metadata": {},
   "outputs": [],
   "source": [
    "def get_rec(title,sig=sig):\n",
    "    idx=df.index[df['title']==title][0]\n",
    "    sigs=list(enumerate(sig[idx]))\n",
    "    sigs=sorted(sigs,key= lambda x:x[1],reverse=True)\n",
    "    req=sigs[0:11]\n",
    "    mov=[i[0] for i in req]\n",
    "    temp=df['title'].iloc[mov]\n",
    "    df_out = temp.to_frame()\n",
    "    output=[x for x in df_out['title']]\n",
    "    return output"
   ]
  },
  {
   "cell_type": "code",
   "execution_count": null,
   "metadata": {},
   "outputs": [],
   "source": []
  },
  {
   "cell_type": "code",
   "execution_count": null,
   "metadata": {},
   "outputs": [],
   "source": []
  },
  {
   "cell_type": "code",
   "execution_count": 24,
   "metadata": {},
   "outputs": [
    {
     "data": {
      "text/plain": [
       "['Revenant, The',\n",
       " 'Parents',\n",
       " 'Villain, The (Le Vilain)',\n",
       " 'Doghouse',\n",
       " 'Centenarian Who Climbed Out the Window and Vanished, The (Hundraåringen som klev ut genom fönstret och försvann)',\n",
       " 'Crimes Against Humanity',\n",
       " 'Welcome to the Roses (Bienvenue chez les Rozes)',\n",
       " 'Sexy Nights of the Living Dead',\n",
       " 'Dark Backward, The',\n",
       " 'Sightseers',\n",
       " 'Grabbers']"
      ]
     },
     "execution_count": 24,
     "metadata": {},
     "output_type": "execute_result"
    }
   ],
   "source": [
    "get_rec('Revenant, The')"
   ]
  },
  {
   "cell_type": "code",
   "execution_count": 31,
   "metadata": {},
   "outputs": [],
   "source": [
    "import pickle"
   ]
  },
  {
   "cell_type": "code",
   "execution_count": 36,
   "metadata": {},
   "outputs": [],
   "source": [
    "with open('model.pkl', 'wb') as f:  # Python 3: open(..., 'wb')\n",
    "    pickle.dump([sig, df], f,)"
   ]
  },
  {
   "cell_type": "code",
   "execution_count": null,
   "metadata": {},
   "outputs": [],
   "source": []
  },
  {
   "cell_type": "code",
   "execution_count": null,
   "metadata": {},
   "outputs": [],
   "source": []
  },
  {
   "cell_type": "code",
   "execution_count": null,
   "metadata": {},
   "outputs": [],
   "source": []
  }
 ],
 "metadata": {
  "kernelspec": {
   "display_name": "Python 3",
   "language": "python",
   "name": "python3"
  },
  "language_info": {
   "codemirror_mode": {
    "name": "ipython",
    "version": 3
   },
   "file_extension": ".py",
   "mimetype": "text/x-python",
   "name": "python",
   "nbconvert_exporter": "python",
   "pygments_lexer": "ipython3",
   "version": "3.8.5"
  }
 },
 "nbformat": 4,
 "nbformat_minor": 2
}
